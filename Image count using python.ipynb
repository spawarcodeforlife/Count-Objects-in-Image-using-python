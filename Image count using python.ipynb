{
 "cells": [
  {
   "cell_type": "code",
   "execution_count": 1,
   "id": "d924c04e",
   "metadata": {},
   "outputs": [
    {
     "name": "stdout",
     "output_type": "stream",
     "text": [
      "\u001b[31mERROR: Could not find a version that satisfies the requirement openCV (from versions: none)\u001b[0m\u001b[31m\n",
      "\u001b[0m\u001b[31mERROR: No matching distribution found for openCV\u001b[0m\u001b[31m\n",
      "\u001b[0mNote: you may need to restart the kernel to use updated packages.\n"
     ]
    }
   ],
   "source": [
    "pip install openCV"
   ]
  },
  {
   "cell_type": "code",
   "execution_count": 1,
   "id": "72a8c119",
   "metadata": {},
   "outputs": [
    {
     "name": "stdout",
     "output_type": "stream",
     "text": [
      "\u001b[31mERROR: Could not find a version that satisfies the requirement openCV (from versions: none)\u001b[0m\u001b[31m\n",
      "\u001b[0m\u001b[31mERROR: No matching distribution found for openCV\u001b[0m\u001b[31m\n",
      "\u001b[0mNote: you may need to restart the kernel to use updated packages.\n"
     ]
    }
   ],
   "source": [
    "pip install openCV"
   ]
  },
  {
   "cell_type": "code",
   "execution_count": 2,
   "id": "a20459d1",
   "metadata": {},
   "outputs": [
    {
     "data": {
      "text/plain": [
       "'/Users/surajpawar/Desktop/Count Objects in Image Using Python'"
      ]
     },
     "execution_count": 2,
     "metadata": {},
     "output_type": "execute_result"
    }
   ],
   "source": [
    "pwd"
   ]
  },
  {
   "cell_type": "code",
   "execution_count": 3,
   "id": "8181ef09",
   "metadata": {},
   "outputs": [
    {
     "name": "stdout",
     "output_type": "stream",
     "text": [
      "Collecting cvlib\n",
      "  Downloading cvlib-0.2.7.tar.gz (13.1 MB)\n",
      "\u001b[2K     \u001b[90m━━━━━━━━━━━━━━━━━━━━━━━━━━━━━━━━━━━━━━━━\u001b[0m \u001b[32m13.1/13.1 MB\u001b[0m \u001b[31m16.3 MB/s\u001b[0m eta \u001b[36m0:00:00\u001b[0m00:01\u001b[0m00:01\u001b[0m\n",
      "\u001b[?25h  Preparing metadata (setup.py) ... \u001b[?25ldone\n",
      "\u001b[?25hRequirement already satisfied: numpy in /Users/surajpawar/Desktop/anaconda3/lib/python3.10/site-packages (from cvlib) (1.23.5)\n",
      "Collecting progressbar\n",
      "  Downloading progressbar-2.5.tar.gz (10 kB)\n",
      "  Preparing metadata (setup.py) ... \u001b[?25ldone\n",
      "\u001b[?25hRequirement already satisfied: requests in /Users/surajpawar/Desktop/anaconda3/lib/python3.10/site-packages (from cvlib) (2.28.1)\n",
      "Requirement already satisfied: pillow in /Users/surajpawar/Desktop/anaconda3/lib/python3.10/site-packages (from cvlib) (9.4.0)\n",
      "Requirement already satisfied: imageio in /Users/surajpawar/Desktop/anaconda3/lib/python3.10/site-packages (from cvlib) (2.26.0)\n",
      "Collecting imutils\n",
      "  Downloading imutils-0.5.4.tar.gz (17 kB)\n",
      "  Preparing metadata (setup.py) ... \u001b[?25ldone\n",
      "\u001b[?25hRequirement already satisfied: urllib3<1.27,>=1.21.1 in /Users/surajpawar/Desktop/anaconda3/lib/python3.10/site-packages (from requests->cvlib) (1.26.14)\n",
      "Requirement already satisfied: idna<4,>=2.5 in /Users/surajpawar/Desktop/anaconda3/lib/python3.10/site-packages (from requests->cvlib) (3.4)\n",
      "Requirement already satisfied: charset-normalizer<3,>=2 in /Users/surajpawar/Desktop/anaconda3/lib/python3.10/site-packages (from requests->cvlib) (2.0.4)\n",
      "Requirement already satisfied: certifi>=2017.4.17 in /Users/surajpawar/Desktop/anaconda3/lib/python3.10/site-packages (from requests->cvlib) (2023.7.22)\n",
      "Building wheels for collected packages: cvlib, imutils, progressbar\n",
      "  Building wheel for cvlib (setup.py) ... \u001b[?25ldone\n",
      "\u001b[?25h  Created wheel for cvlib: filename=cvlib-0.2.7-py3-none-any.whl size=10046368 sha256=aba3c630493ca63337bb82fb5aed1c123868295b73b00a39baf68922f01b7676\n",
      "  Stored in directory: /Users/surajpawar/Library/Caches/pip/wheels/2c/b4/91/c6ddd31550a14fec141d21053f4a6fe5729c41aaf991baf2bc\n",
      "  Building wheel for imutils (setup.py) ... \u001b[?25ldone\n",
      "\u001b[?25h  Created wheel for imutils: filename=imutils-0.5.4-py3-none-any.whl size=25836 sha256=968f1566cf9605907d796d366ed03b010bb80d980ee5854e39318a07cb64b85f\n",
      "  Stored in directory: /Users/surajpawar/Library/Caches/pip/wheels/c2/02/32/f3617a9f68bcc67eda3ebeb4514eba18f62e81ff439428109d\n",
      "  Building wheel for progressbar (setup.py) ... \u001b[?25ldone\n",
      "\u001b[?25h  Created wheel for progressbar: filename=progressbar-2.5-py3-none-any.whl size=12067 sha256=8d4bea5617165cd6057df872bda80b990ef78348856bf5eb7be30bd8ba05124c\n",
      "  Stored in directory: /Users/surajpawar/Library/Caches/pip/wheels/87/80/e5/ebb505e651c0099350734492f23bea3f5ad466275f78448b9d\n",
      "Successfully built cvlib imutils progressbar\n",
      "Installing collected packages: progressbar, imutils, cvlib\n",
      "Successfully installed cvlib-0.2.7 imutils-0.5.4 progressbar-2.5\n",
      "Note: you may need to restart the kernel to use updated packages.\n"
     ]
    }
   ],
   "source": [
    "pip install cvlib"
   ]
  },
  {
   "cell_type": "code",
   "execution_count": 6,
   "id": "fbad3e0f",
   "metadata": {},
   "outputs": [],
   "source": [
    "import cv2\n",
    "import numpy as np\n",
    "import matplotlib.pyplot as plt\n",
    "import cvlib as cv\n",
    "from cvlib.object_detection import draw_bbox\n",
    "from numpy.lib.polynomial import poly\n",
    "\n",
    "image = cv2.imread(\"/Users/surajpawar/Desktop/Count Objects in Image Using Python/traffic.jpg\")\n",
    "box, label, count = cv.detect_common_objects(image)\n",
    "output = draw_box(image, box, label, count)\n",
    "plt.imshow(output)\n",
    "plt.show()\n",
    "print(\"Number of cars in this image are \"+str(label.count('car')))"
   ]
  },
  {
   "cell_type": "code",
   "execution_count": null,
   "id": "65599d1f",
   "metadata": {},
   "outputs": [],
   "source": []
  }
 ],
 "metadata": {
  "kernelspec": {
   "display_name": "Python 3 (ipykernel)",
   "language": "python",
   "name": "python3"
  },
  "language_info": {
   "codemirror_mode": {
    "name": "ipython",
    "version": 3
   },
   "file_extension": ".py",
   "mimetype": "text/x-python",
   "name": "python",
   "nbconvert_exporter": "python",
   "pygments_lexer": "ipython3",
   "version": "3.10.9"
  }
 },
 "nbformat": 4,
 "nbformat_minor": 5
}
